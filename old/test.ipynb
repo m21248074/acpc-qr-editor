{
 "cells": [
  {
   "cell_type": "code",
   "execution_count": 52,
   "metadata": {},
   "outputs": [],
   "source": [
    "# create qr code\n",
    "import pyqrcode\n",
    "qr = pyqrcode.create(\"HORN O.K. PLEASE.\")\n",
    "qr.png(\"horn.png\", scale=6)"
   ]
  },
  {
   "cell_type": "code",
   "execution_count": 53,
   "metadata": {},
   "outputs": [
    {
     "name": "stdout",
     "output_type": "stream",
     "text": [
      "\u0000\u0001\u0000\u0000\u0000ÿÿÿÿ\u0001\u0000\u0000\u0000\u0000\u0000\u0000\u0000\u0006\u0001\u0000\u0000\u0000ç\u0002{\"Version\":1,\"PlayerId\":\"56ea280284b34458\",\"PlayerName\":\"Jeremy\",\"PartnerId\":209500,\"Sex\":1,\"EyeParts\":4,\"HairStyle\":1013,\"EyeColorIndex\":2,\"HairColorIndex\":0,\"SkinColorIndex\":1,\"PlayerClothes\":[322,300,291,246,0,0,0,0],\"PartnerClothes\":[0,0,0,0,0],\"BGColor\":2,\"Posing\":3,\"Level\":40,\"PlayerMyDesignId\":[\"\",\"\",\"\",\"\",\"\",\"\",\"\",\"\"],\"PartnerMyDesignId\":[\"\",\"\",\"\"]}\u000b\n"
     ]
    }
   ],
   "source": [
    "import qrtools\n",
    "qr = qrtools.QR()\n",
    "qr.decode(\"qr-pic.png\")\n",
    "print(qr.data)"
   ]
  },
  {
   "cell_type": "code",
   "execution_count": 54,
   "metadata": {},
   "outputs": [
    {
     "name": "stdout",
     "output_type": "stream",
     "text": [
      "\u0000\u0001\u0000\u0000\u0000ÿÿÿÿ\u0001\u0000\u0000\u0000\u0000\u0000\u0000\u0000\u0006\u0001\u0000\u0000\u0000ç\u0002{\"Version\":1,\"PlayerId\":\"56ea280284b34458\",\"PlayerName\":\"Jeremy\",\"PartnerId\":209500,\"Sex\":1,\"EyeParts\":4,\"HairStyle\":1013,\"EyeColorIndex\":2,\"HairColorIndex\":0,\"SkinColorIndex\":1,\"PlayerClothes\":[322,300,291,246,0,0,0,0],\"PartnerClothes\":[0,0,0,0,0],\"BGColor\":2,\"Posing\":3,\"Level\":40,\"PlayerMyDesignId\":[\"\",\"\",\"\",\"\",\"\",\"\",\"\",\"\"],\"PartnerMyDesignId\":[\"\",\"\",\"\"]}\u000b\n",
      "\u0000\u0001\u0000\u0000\u0000ÿÿÿÿ\u0001\u0000\u0000\u0000\u0000\u0000\u0000\u0000\u0006\u0001\u0000\u0000\u0000ç\u0002\n",
      "{\"Version\":1,\"PlayerId\":\"56ea280284b34458\",\"PlayerName\":\"Jeremy\",\"PartnerId\":209500,\"Sex\":1,\"EyeParts\":4,\"HairStyle\":1013,\"EyeColorIndex\":2,\"HairColorIndex\":0,\"SkinColorIndex\":1,\"PlayerClothes\":[322,300,291,246,0,0,0,0],\"PartnerClothes\":[0,0,0,0,0],\"BGColor\":2,\"Posing\":3,\"Level\":40,\"PlayerMyDesignId\":[\"\",\"\",\"\",\"\",\"\",\"\",\"\",\"\"],\"PartnerMyDesignId\":[\"\",\"\",\"\"]}\u000b\n"
     ]
    }
   ],
   "source": [
    "import qrtools\n",
    "qr = qrtools.QR()\n",
    "qr.decode(\"qr-pic.png\")\n",
    "print(qr.data)\n",
    "print(qr.data[:24])\n",
    "print(qr.data[24:])"
   ]
  },
  {
   "cell_type": "code",
   "execution_count": 55,
   "metadata": {},
   "outputs": [
    {
     "name": "stdout",
     "output_type": "stream",
     "text": [
      "\u0000\u0001\u0000\u0000\u0000ÿÿÿÿ\u0001\u0000\u0000\u0000\u0000\u0000\u0000\u0000\u0006\u0001\u0000\u0000\u0000ç\u0002{\"Version\":1,\"PlayerId\":\"56ea280284b34458\",\"PlayerName\":\"Jeremy\",\"PartnerId\":209500,\"Sex\":1,\"EyeParts\":4,\"HairStyle\":1013,\"EyeColorIndex\":2,\"HairColorIndex\":0,\"SkinColorIndex\":1,\"PlayerClothes\":[322,300,291,246,0,0,0,0],\"PartnerClothes\":[0,0,0,0,0],\"BGColor\":2,\"Posing\":3,\"Level\":40,\"PlayerMyDesignId\":[\"\",\"\",\"\",\"\",\"\",\"\",\"\",\"\"],\"PartnerMyDesignId\":[\"\",\"\",\"\"]}\u000b\n",
      "\u0000\u0001\u0000\u0000\u0000ÿÿÿÿ\u0001\u0000\u0000\u0000\u0000\u0000\u0000\u0000\u0006\u0001\u0000\u0000\u0000ç\u0002\n",
      "\u000b\n",
      "{\"Version\":1,\"PlayerId\":\"56ea280284b34458\",\"PlayerName\":\"Jeremy\",\"PartnerId\":209500,\"Sex\":1,\"EyeParts\":4,\"HairStyle\":1013,\"EyeColorIndex\":2,\"HairColorIndex\":0,\"SkinColorIndex\":1,\"PlayerClothes\":[322,300,291,246,0,0,0,0],\"PartnerClothes\":[0,0,0,0,0],\"BGColor\":2,\"Posing\":3,\"Level\":40,\"PlayerMyDesignId\":[\"\",\"\",\"\",\"\",\"\",\"\",\"\",\"\"],\"PartnerMyDesignId\":[\"\",\"\",\"\"]}\n"
     ]
    }
   ],
   "source": [
    "qr.decode(\"qr-pic.png\")\n",
    "print(qr.data)\n",
    "print(qr.data[:24])\n",
    "print(qr.data[-1:])\n",
    "print(qr.data[24:-1])"
   ]
  },
  {
   "cell_type": "code",
   "execution_count": 56,
   "metadata": {},
   "outputs": [
    {
     "name": "stdout",
     "output_type": "stream",
     "text": [
      "{\"Version\":1,\"PlayerId\":\"56ea280284b34458\",\"PlayerName\":\"Jeremy\",\"PartnerId\":209500,\"Sex\":1,\"EyeParts\":4,\"HairStyle\":1013,\"EyeColorIndex\":2,\"HairColorIndex\":0,\"SkinColorIndex\":1,\"PlayerClothes\":[322,300,291,246,0,0,0,0],\"PartnerClothes\":[0,0,0,0,0],\"BGColor\":2,\"Posing\":3,\"Level\":40,\"PlayerMyDesignId\":[\"\",\"\",\"\",\"\",\"\",\"\",\"\",\"\"],\"PartnerMyDesignId\":[\"\",\"\",\"\"]}\n"
     ]
    }
   ],
   "source": [
    "qr.decode(\"qr-pic.png\")\n",
    "jsonstr = qr.data[24:-1]\n",
    "print(jsonstr)"
   ]
  },
  {
   "cell_type": "code",
   "execution_count": 79,
   "metadata": {},
   "outputs": [
    {
     "name": "stdout",
     "output_type": "stream",
     "text": [
      "1\n"
     ]
    }
   ],
   "source": [
    "import json\n",
    "import qrtools\n",
    "qr = qrtools.QR()\n",
    "qr.decode(\"qr-pic.png\")\n",
    "frontdata = qr.data[:24]\n",
    "backdata = qr.data[-1:]\n",
    "jsonstr = qr.data[24:-1]\n",
    "jsonobj = json.loads(jsonstr)\n",
    "print(jsonobj[\"Version\"])"
   ]
  },
  {
   "cell_type": "code",
   "execution_count": 80,
   "metadata": {},
   "outputs": [
    {
     "name": "stdout",
     "output_type": "stream",
     "text": [
      "\u0000\u0001\u0000\u0000\u0000ÿÿÿÿ\u0001\u0000\u0000\u0000\u0000\u0000\u0000\u0000\u0006\u0001\u0000\u0000\u0000ç\u0002{\"Version\":1,\"PlayerId\":\"56ea280284b34459\",\"PlayerName\":\"Jaremy\",\"PartnerId\":209500,\"Sex\":1,\"EyeParts\":4,\"HairStyle\":1013,\"EyeColorIndex\":2,\"HairColorIndex\":0,\"SkinColorIndex\":1,\"PlayerClothes\":[322,300,291,246,0,0,0,0],\"PartnerClothes\":[0,0,0,0,0],\"BGColor\":3,\"Posing\":3,\"Level\":40,\"PlayerMyDesignId\":[\"\",\"\",\"\",\"\",\"\",\"\",\"\",\"\"],\"PartnerMyDesignId\":[\"\",\"\",\"\"]}\u000b\n"
     ]
    }
   ],
   "source": [
    "jsonobj[\"PlayerId\"] = \"56ea280284b34459\"\n",
    "jsonobj[\"PlayerName\"] = \"Jaremy\"\n",
    "jsonobj[\"BGColor\"] = 3\n",
    "\n",
    "newjsonstr = json.dumps(jsonobj, separators=(',', ':'))\n",
    "print(frontdata + newjsonstr + backdata)"
   ]
  },
  {
   "cell_type": "code",
   "execution_count": 81,
   "metadata": {},
   "outputs": [
    {
     "name": "stdout",
     "output_type": "stream",
     "text": [
      "\u0000\u0001\u0000\u0000\u0000ÿÿÿÿ\u0001\u0000\u0000\u0000\u0000\u0000\u0000\u0000\u0006\u0001\u0000\u0000\u0000ç\u0002\n",
      "\u0000\u0001\u0000\u0000\u0000ÿÿÿÿ\u0001\u0000\u0000\u0000\u0000\u0000\u0000\u0000\u0006\u0001\u0000\u0000\u0000ç\u0002{\"Version\":1,\"PlayerId\":\"56ea280284b34459\",\"PlayerName\":\"Jaremy\",\"PartnerId\":209500,\"Sex\":1,\"EyeParts\":4,\"HairStyle\":1013,\"EyeColorIndex\":2,\"HairColorIndex\":0,\"SkinColorIndex\":1,\"PlayerClothes\":[322,300,291,246,0,0,0,0],\"PartnerClothes\":[0,0,0,0,0],\"BGColor\":3,\"Posing\":3,\"Level\":40,\"PlayerMyDesignId\":[\"\",\"\",\"\",\"\",\"\",\"\",\"\",\"\"],\"PartnerMyDesignId\":[\"\",\"\",\"\"]}\u000b\n"
     ]
    }
   ],
   "source": [
    "newqrtext = frontdata + newjsonstr + backdata\n",
    "print(frontdata)\n",
    "print(newqrtext)\n",
    "qr = pyqrcode.create(newqrtext)\n",
    "qr.png(\"eviljeremy.png\", scale=6)"
   ]
  },
  {
   "cell_type": "code",
   "execution_count": 73,
   "metadata": {},
   "outputs": [
    {
     "name": "stdout",
     "output_type": "stream",
     "text": [
      "\u0000\u0001\u0000\u0000\u0000ÿÿÿÿ\u0001\u0000\u0000\u0000\u0000\u0000\u0000\u0000\u0006\u0001\u0000\u0000\u0000ç\u0002{\"Version\":1,\"PlayerId\":\"56ea280284b34459\",\"PlayerName\":\"Jaremy\",\"PartnerId\":209500,\"Sex\":1,\"EyeParts\":4,\"HairStyle\":1013,\"EyeColorIndex\":2,\"HairColorIndex\":0,\"SkinColorIndex\":1,\"PlayerClothes\":[322,300,291,246,0,0,0,0],\"PartnerClothes\":[0,0,0,0,0],\"BGColor\":3,\"Posing\":3,\"Level\":40,\"PlayerMyDesignId\":[\"\",\"\",\"\",\"\",\"\",\"\",\"\",\"\"],\"PartnerMyDesignId\":[\"\",\"\",\"\"]}\u000b\n"
     ]
    }
   ],
   "source": [
    "import json\n",
    "import qrtools\n",
    "qr = qrtools.QR()\n",
    "qr.decode(\"eviljeremy.png\")\n",
    "# frontdata = qr.data[:24]\n",
    "s = qr.data\n",
    "print(s)"
   ]
  },
  {
   "cell_type": "code",
   "execution_count": 87,
   "metadata": {},
   "outputs": [
    {
     "name": "stdout",
     "output_type": "stream",
     "text": [
      "\u0000\u0001\u0000\u0000\u0000ÿÿÿÿ\u0001\u0000\u0000\u0000\u0000\u0000\u0000\u0000\u0006\u0001\u0000\u0000\u0000þ\u0002{\"Version\":1,\"PlayerId\":\"0832fccb08011c0e\",\"PlayerName\":\"Leaf\",\"PartnerId\":230200,\"Sex\":0,\"EyeParts\":5,\"HairStyle\":2017,\"EyeColorIndex\":11,\"HairColorIndex\":4,\"SkinColorIndex\":8,\"PlayerClothes\":[304,5032087,2601056,2001065,2301043,0,0,0],\"PartnerClothes\":[2301061,0,0,0,0],\"BGColor\":5,\"Posing\":2,\"Level\":62,\"PlayerMyDesignId\":[\"\",\"\",\"\",\"\",\"\",\"\",\"\",\"\"],\"PartnerMyDesignId\":[\"\",\"\",\"\"]}\u000b\n"
     ]
    }
   ],
   "source": [
    "import json\n",
    "import qrtools\n",
    "qr = qrtools.QR()\n",
    "qr.decode(\"leaf.webp\")\n",
    "# frontdata = qr.data[:24]\n",
    "s = qr.data\n",
    "print(s)"
   ]
  },
  {
   "cell_type": "code",
   "execution_count": null,
   "metadata": {},
   "outputs": [],
   "source": []
  }
 ],
 "metadata": {
  "kernelspec": {
   "display_name": "Python 3",
   "language": "python",
   "name": "python3"
  },
  "language_info": {
   "codemirror_mode": {
    "name": "ipython",
    "version": 3
   },
   "file_extension": ".py",
   "mimetype": "text/x-python",
   "name": "python",
   "nbconvert_exporter": "python",
   "pygments_lexer": "ipython3",
   "version": "3.12.3"
  }
 },
 "nbformat": 4,
 "nbformat_minor": 2
}
